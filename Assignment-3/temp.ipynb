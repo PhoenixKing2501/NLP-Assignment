{
 "cells": [
  {
   "cell_type": "code",
   "execution_count": 1,
   "metadata": {},
   "outputs": [],
   "source": [
    "from bert_data import *\n",
    "from bert_model import *\n",
    "from bert_utils import *\n",
    "\n",
    "from torch.utils.data import DataLoader"
   ]
  },
  {
   "cell_type": "code",
   "execution_count": 2,
   "metadata": {},
   "outputs": [
    {
     "name": "stderr",
     "output_type": "stream",
     "text": [
      "Some weights of RobertaForSequenceClassification were not initialized from the model checkpoint at roberta-base and are newly initialized: ['classifier.dense.bias', 'classifier.dense.weight', 'classifier.out_proj.bias', 'classifier.out_proj.weight']\n",
      "You should probably TRAIN this model on a down-stream task to be able to use it for predictions and inference.\n"
     ]
    }
   ],
   "source": [
    "model = BERT_Model(\"roberta-base\", 4)\n",
    "tokenizer = RobertaTokenizer.from_pretrained(\"roberta-base\")"
   ]
  },
  {
   "cell_type": "code",
   "execution_count": 3,
   "metadata": {},
   "outputs": [],
   "source": [
    "data = {\n",
    "    \"text\":  [\n",
    "        \"This is a test sentence.\",\n",
    "        \"Another test sentence here.\",\n",
    "        \"Yet another sentence for testing purposes.\",\n",
    "        \"This sentence contains some unnecessary symbols and stop words.\",\n",
    "    ],\n",
    "    \"label\": [0, 1, 2, 3],\n",
    "}\n",
    "\n",
    "dataset = BERT_Dataset(data, \"roberta-base\", 4)\n",
    "dataloader = DataLoader(dataset, batch_size=4, shuffle=False)"
   ]
  },
  {
   "cell_type": "code",
   "execution_count": 6,
   "metadata": {},
   "outputs": [
    {
     "name": "stdout",
     "output_type": "stream",
     "text": [
      "x:\n",
      "{'input_ids': tensor([[    0,   713,    16,     2],\n",
      "        [    0, 21518,  1296,     2],\n",
      "        [    0, 34995,   277,     2],\n",
      "        [    0,   713,  3645,     2]]),\n",
      " 'attention_mask': tensor([[1, 1, 1, 1],\n",
      "        [1, 1, 1, 1],\n",
      "        [1, 1, 1, 1],\n",
      "        [1, 1, 1, 1]])}\n",
      "y:\n",
      "tensor([0, 1, 2, 3])\n",
      "SequenceClassifierOutput(loss=tensor(1.3971, grad_fn=<NllLossBackward0>),\n",
      "                         logits=tensor([[-0.1518, -0.1383,  0.1122,  0.1282],\n",
      "        [-0.1440, -0.1432,  0.1080,  0.1207],\n",
      "        [-0.1453, -0.1397,  0.1110,  0.1187],\n",
      "        [-0.1464, -0.1386,  0.1091,  0.1195]], grad_fn=<AddmmBackward0>),\n",
      "                         hidden_states=None,\n",
      "                         attentions=None)\n"
     ]
    }
   ],
   "source": [
    "from pprint import pp\n",
    "\n",
    "dt = iter(dataloader)\n",
    "x, y = next(dt)\n",
    "# x = dataset[0]\n",
    "print(\"x:\")\n",
    "pp(x)\n",
    "print(\"y:\")\n",
    "pp(y)\n",
    "\n",
    "# def printall(**x):\n",
    "#     for k, v in x.items():\n",
    "#         print(k, v)\n",
    "\n",
    "# printall(**x)\n",
    "# model.eval()\n",
    "# y = torch.tensor(np.expand_dims(y.numpy(force=True), 0))\n",
    "pp(model(**x, labels=y))\n",
    "loss = model(**x, labels=y).loss\n",
    "loss.backward()\n",
    "# logits = model(x).logits\n",
    "\n",
    "# print(loss, logits)"
   ]
  }
 ],
 "metadata": {
  "kernelspec": {
   "display_name": ".env",
   "language": "python",
   "name": "python3"
  },
  "language_info": {
   "codemirror_mode": {
    "name": "ipython",
    "version": 3
   },
   "file_extension": ".py",
   "mimetype": "text/x-python",
   "name": "python",
   "nbconvert_exporter": "python",
   "pygments_lexer": "ipython3",
   "version": "3.10.11"
  }
 },
 "nbformat": 4,
 "nbformat_minor": 2
}
